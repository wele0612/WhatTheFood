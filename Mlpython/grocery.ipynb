{
 "cells": [
  {
   "cell_type": "code",
   "execution_count": 1,
   "metadata": {},
   "outputs": [],
   "source": [
    "## for data\n",
    "import pandas as pd\n",
    "import numpy as np\n",
    "import pickle\n",
    "import nltk\n",
    "# import keras\n",
    "# import xgboost\n",
    "\n",
    "## for plotting\n",
    "import matplotlib.pyplot as plt\n",
    "import seaborn as sns\n",
    "## for statistical tests\n",
    "import scipy\n",
    "## import statsmodels.formula.api as smf\n",
    "## import statsmodels.api as sm\n",
    "## for machine learning\n",
    "from sklearn import model_selection, preprocessing, feature_selection, ensemble, linear_model, metrics, decomposition\n",
    "from sklearn.feature_extraction.text import CountVectorizer\n",
    "from sklearn.model_selection import train_test_split\n",
    "from sklearn.pipeline import Pipeline\n",
    "from sklearn.feature_extraction.text import TfidfVectorizer\n",
    "from sklearn.multiclass import OneVsRestClassifier\n",
    "from sklearn.naive_bayes import MultinomialNB\n",
    "from sklearn.naive_bayes import BernoulliNB\n",
    "from sklearn.feature_extraction.text import TfidfTransformer\n",
    "from sklearn.metrics import classification_report\n",
    "\n",
    "## for explainer\n",
    "from lime import lime_tabular\n",
    "from nltk.corpus import stopwords\n",
    "from sklearn.metrics import accuracy_score"
   ]
  },
  {
   "cell_type": "code",
   "execution_count": 2,
   "metadata": {},
   "outputs": [
    {
     "name": "stdout",
     "output_type": "stream",
     "text": [
      "                    item    label\n",
      "0                Abalone  Seafood\n",
      "1                Acerola  Produce\n",
      "2       Acidophilus Milk    Dairy\n",
      "3                  Ackee  Produce\n",
      "4           Acorn Squash  Produce\n",
      "..                   ...      ...\n",
      "747            Yuca Root  Produce\n",
      "748  Yukon Gold Potatoes  Produce\n",
      "749                 Yuzu  Produce\n",
      "750       Zinc Caseinate    Dairy\n",
      "751             Zucchini  Produce\n",
      "\n",
      "[752 rows x 2 columns]\n"
     ]
    }
   ],
   "source": [
    "data = pd.read_csv(r\"C:\\Users\\lily xie\\Downloads\\grocery.csv\")\n",
    "print(data)"
   ]
  },
  {
   "cell_type": "code",
   "execution_count": 3,
   "metadata": {},
   "outputs": [
    {
     "name": "stdout",
     "output_type": "stream",
     "text": [
      "                    item    label\n",
      "0                abalone  seafood\n",
      "1                acerola  produce\n",
      "2       acidophilus milk    dairy\n",
      "3                  ackee  produce\n",
      "4           acorn squash  produce\n",
      "..                   ...      ...\n",
      "747            yuca root  produce\n",
      "748  yukon gold potatoes  produce\n",
      "749                 yuzu  produce\n",
      "750       zinc caseinate    dairy\n",
      "751             zucchini  produce\n",
      "\n",
      "[752 rows x 2 columns]\n"
     ]
    }
   ],
   "source": [
    "## data cleaning\n",
    "for Item in data.columns:\n",
    "    data[Item] = data[Item].str.lower() \n",
    "print(data)"
   ]
  },
  {
   "cell_type": "code",
   "execution_count": 4,
   "metadata": {},
   "outputs": [],
   "source": [
    "## filtered list\n",
    "# dataDairy = data[data['label'] == \"dairy\"]\n",
    "# ## print(dataDairy)\n",
    "# dataMeat = data[data['label'] == \"meat\"]\n",
    "# ## print(dataMeat)\n",
    "# dataProduce = data[data['label'] == \"produce\"]\n",
    "# ## print(dataProduce)\n",
    "# dataSeafood = data[data['label'] == \"seafood\"]\n",
    "# ## print(dataSeafood)"
   ]
  },
  {
   "cell_type": "code",
   "execution_count": 5,
   "metadata": {},
   "outputs": [
    {
     "name": "stdout",
     "output_type": "stream",
     "text": [
      "(564,)\n",
      "(188,)\n"
     ]
    }
   ],
   "source": [
    "categories = ['dairy', 'meat', 'produce', 'seafood']\n",
    "train, test = train_test_split(data, random_state=42, test_size=0.25, shuffle=True)\n",
    "X_train = train.label\n",
    "X_test = test.label\n",
    "print(X_train.shape)\n",
    "print(X_test.shape)"
   ]
  },
  {
   "cell_type": "code",
   "execution_count": null,
   "metadata": {},
   "outputs": [],
   "source": []
  },
  {
   "cell_type": "code",
   "execution_count": null,
   "metadata": {},
   "outputs": [],
   "source": []
  },
  {
   "cell_type": "code",
   "execution_count": 16,
   "metadata": {},
   "outputs": [
    {
     "name": "stdout",
     "output_type": "stream",
     "text": [
      "(188,)\n",
      "(188,)\n",
      "accuracy 0.7819148936170213\n",
      "              precision    recall  f1-score   support\n",
      "\n",
      "       dairy       1.00      0.62      0.77        24\n",
      "        meat       0.00      0.00      0.00         2\n",
      "     produce       0.75      1.00      0.86       124\n",
      "     seafood       1.00      0.21      0.35        38\n",
      "\n",
      "    accuracy                           0.78       188\n",
      "   macro avg       0.69      0.46      0.49       188\n",
      "weighted avg       0.83      0.78      0.73       188\n",
      "\n"
     ]
    },
    {
     "name": "stderr",
     "output_type": "stream",
     "text": [
      "c:\\Users\\lily xie\\AppData\\Local\\Programs\\Python\\Python310\\lib\\site-packages\\sklearn\\metrics\\_classification.py:1344: UndefinedMetricWarning: Precision and F-score are ill-defined and being set to 0.0 in labels with no predicted samples. Use `zero_division` parameter to control this behavior.\n",
      "  _warn_prf(average, modifier, msg_start, len(result))\n",
      "c:\\Users\\lily xie\\AppData\\Local\\Programs\\Python\\Python310\\lib\\site-packages\\sklearn\\metrics\\_classification.py:1344: UndefinedMetricWarning: Precision and F-score are ill-defined and being set to 0.0 in labels with no predicted samples. Use `zero_division` parameter to control this behavior.\n",
      "  _warn_prf(average, modifier, msg_start, len(result))\n",
      "c:\\Users\\lily xie\\AppData\\Local\\Programs\\Python\\Python310\\lib\\site-packages\\sklearn\\metrics\\_classification.py:1344: UndefinedMetricWarning: Precision and F-score are ill-defined and being set to 0.0 in labels with no predicted samples. Use `zero_division` parameter to control this behavior.\n",
      "  _warn_prf(average, modifier, msg_start, len(result))\n"
     ]
    }
   ],
   "source": [
    "## Machine Learning using Naive Bayes Algorithm, Training vs. Testing = 3:1\n",
    "X = data.item\n",
    "y = data.label\n",
    "X_train, X_test, y_train, y_test = train_test_split(X, y, test_size=0.25, random_state = 42)\n",
    "\n",
    "nb = Pipeline([('vect', CountVectorizer()),\n",
    "               ('tfidf', TfidfTransformer()),\n",
    "               ('clf', MultinomialNB()),\n",
    "              ])\n",
    "\n",
    "nb.fit(X_train, y_train)\n",
    "y_pred = nb.predict(X_test)\n",
    "print(y_pred.shape)\n",
    "print(y_test.shape)\n",
    "print('accuracy %s' % accuracy_score(y_pred, y_test))\n",
    "## print('Test accuracy is {}'.format(accuracy_score(test[category], prediction)))\n",
    "print(classification_report(y_test, y_pred))"
   ]
  },
  {
   "cell_type": "code",
   "execution_count": 9,
   "metadata": {},
   "outputs": [],
   "source": [
    "## future: can use partial fit and increase validation trials to improve accuracy\n"
   ]
  },
  {
   "cell_type": "code",
   "execution_count": null,
   "metadata": {},
   "outputs": [],
   "source": []
  }
 ],
 "metadata": {
  "kernelspec": {
   "display_name": "Python 3",
   "language": "python",
   "name": "python3"
  },
  "language_info": {
   "codemirror_mode": {
    "name": "ipython",
    "version": 3
   },
   "file_extension": ".py",
   "mimetype": "text/x-python",
   "name": "python",
   "nbconvert_exporter": "python",
   "pygments_lexer": "ipython3",
   "version": "3.10.4"
  },
  "orig_nbformat": 4,
  "vscode": {
   "interpreter": {
    "hash": "6b96e166baf24721cd1fe7d73df255c2e79adb2ac0e60de058014a61dba2c5b5"
   }
  }
 },
 "nbformat": 4,
 "nbformat_minor": 2
}
